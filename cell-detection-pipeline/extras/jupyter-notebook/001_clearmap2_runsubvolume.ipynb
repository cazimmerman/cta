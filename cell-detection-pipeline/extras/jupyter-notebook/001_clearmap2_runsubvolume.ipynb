{
 "cells": [
  {
   "cell_type": "markdown",
   "metadata": {},
   "source": [
    "## General imports"
   ]
  },
  {
   "cell_type": "code",
   "execution_count": 1,
   "metadata": {},
   "outputs": [],
   "source": [
    "import os,sys,glob,shutil\n",
    "import imageio\n",
    "import numpy as np\n",
    "import matplotlib.pyplot as plt\n",
    "plt.rc('image',cmap='Greys')\n",
    "import tifffile\n",
    "%matplotlib inline"
   ]
  },
  {
   "cell_type": "markdown",
   "metadata": {},
   "source": [
    "## ```ClearMap2``` imports"
   ]
  },
  {
   "cell_type": "code",
   "execution_count": 2,
   "metadata": {},
   "outputs": [],
   "source": [
    "sys.path.append('/jukebox/witten/Chris/python/ClearMap2-master')\n",
    "import ClearMap.IO.Workspace as wsp\n",
    "import ClearMap.IO.IO as io\n",
    "import ClearMap.ImageProcessing.Experts.Cells as cells\n",
    "import ClearMap.Utils.HierarchicalDict as hdict"
   ]
  },
  {
   "cell_type": "markdown",
   "metadata": {},
   "source": [
    "## Select dataset to analyze"
   ]
  },
  {
   "cell_type": "code",
   "execution_count": null,
   "metadata": {},
   "outputs": [],
   "source": [
    "fpath = 'zimmerman_01/zimmerman_01-001/imaging_request_1/rawdata/resolution_3.6x/'"
   ]
  },
  {
   "cell_type": "markdown",
   "metadata": {},
   "source": [
    "## Link and rename image files"
   ]
  },
  {
   "cell_type": "code",
   "execution_count": null,
   "metadata": {},
   "outputs": [],
   "source": [
    "# src_dir = os.path.join('/jukebox/LightSheetData/lightserv/cz15',fpath)\n",
    "# dst_dir = os.path.join('/jukebox/witten/Chris/data/clearmap2',fpath)\n",
    "\n",
    "# src_488 = os.path.join(src_dir,'Ex_488_Em_0/corrected')\n",
    "# dst_488 = os.path.join(dst_dir,'Ex_488_Em_0/corrected')\n",
    "# os.makedirs(dst_488)\n",
    "# src_files = sorted(glob.glob(src_488 + '/*tif'))\n",
    "# for ii,src in enumerate(src_files):\n",
    "#     dst_basename = 'Z'+f'{ii}'.zfill(4)+'.tif'\n",
    "#     dst = os.path.join(dst_488,dst_basename)\n",
    "#     os.symlink(src,dst)\n",
    "\n",
    "# src_642 = os.path.join(src_dir,'Ex_642_Em_2/corrected')\n",
    "# dst_642 = os.path.join(dst_dir,'Ex_642_Em_2/corrected')\n",
    "# os.makedirs(dst_642)\n",
    "# src_files = sorted(glob.glob(src_642 + '/*tif'))\n",
    "# for ii,src in enumerate(src_files):\n",
    "#     dst_basename = 'Z'+f'{ii}'.zfill(4)+'.tif'\n",
    "#     dst = os.path.join(dst_642,dst_basename)\n",
    "#     os.symlink(src,dst)"
   ]
  },
  {
   "cell_type": "markdown",
   "metadata": {},
   "source": [
    "## Initialize ```ClearMap2``` workspace object"
   ]
  },
  {
   "cell_type": "code",
   "execution_count": null,
   "metadata": {},
   "outputs": [],
   "source": [
    "directory = os.path.join('/jukebox/witten/Chris/data/clearmap2',fpath)\n",
    "expression_auto = '/Ex_488_Em_0/corrected/Z<Z,4>.tif'\n",
    "expression_raw = '/Ex_642_Em_2/corrected/Z<Z,4>.tif'\n",
    "ws = wsp.Workspace('CellMap',directory=directory)\n",
    "ws.update(raw=expression_raw)\n",
    "ws.update(autofluorescence=expression_auto)\n",
    "ws.debug = False\n",
    "ws.info()"
   ]
  },
  {
   "cell_type": "markdown",
   "metadata": {},
   "source": [
    "## Verify images were correctly loaded"
   ]
  },
  {
   "cell_type": "code",
   "execution_count": null,
   "metadata": {
    "scrolled": false
   },
   "outputs": [],
   "source": [
    "fig = plt.figure(figsize=(15,10))\n",
    "ax = fig.add_subplot()\n",
    "z_plane = ws.source('raw')[:,:,2500]\n",
    "ax.imshow(z_plane,vmin=0,vmax=200);"
   ]
  },
  {
   "cell_type": "markdown",
   "metadata": {},
   "source": [
    "## Created stitched image volume"
   ]
  },
  {
   "cell_type": "code",
   "execution_count": null,
   "metadata": {
    "scrolled": false
   },
   "outputs": [],
   "source": [
    "# source = ws.source('raw');\n",
    "# sink = ws.filename('stitched')\n",
    "# io.convert(source,sink,verbose=True)"
   ]
  },
  {
   "cell_type": "markdown",
   "metadata": {},
   "source": [
    "## Select image subvolume to analyze"
   ]
  },
  {
   "cell_type": "code",
   "execution_count": null,
   "metadata": {},
   "outputs": [],
   "source": [
    "ws.debug = 'subvolume_0'\n",
    "slicing = (slice(4000,4500),slice(2000,2500),slice(1450,1480))\n",
    "\n",
    "ws.debug = 'subvolume_1'\n",
    "slicing = (slice(1500,2000),slice(2000,2500),slice(1450,1480))\n",
    "\n",
    "ws.create_debug('stitched',slicing=slicing)"
   ]
  },
  {
   "cell_type": "code",
   "execution_count": null,
   "metadata": {},
   "outputs": [],
   "source": [
    "fig = plt.figure(figsize=(15,10))\n",
    "ax=fig.add_subplot(111)\n",
    "ax.imshow(np.amax(ws.source('stitched'),2),vmin=0,vmax=400);"
   ]
  },
  {
   "cell_type": "markdown",
   "metadata": {},
   "source": [
    "## Run ```CellMap``` on image subvolume"
   ]
  },
  {
   "cell_type": "code",
   "execution_count": null,
   "metadata": {},
   "outputs": [],
   "source": [
    "cell_detection_parameter = cells.default_cell_detection_parameter.copy()\n",
    "cell_detection_parameter['iullumination_correction'] = None\n",
    "cell_detection_parameter['background_correction']['shape'] = (15,15)\n",
    "cell_detection_parameter['background_correction']['form'] = 'Disk'\n",
    "cell_detection_parameter['background_correction']['save'] = False\n",
    "cell_detection_parameter['equalization'] = None\n",
    "cell_detection_parameter['dog_filter'] = None\n",
    "cell_detection_parameter['maxima_detection']['h_max'] = None\n",
    "cell_detection_parameter['maxima_detection']['shape'] = 10\n",
    "cell_detection_parameter['maxima_detection']['threshold'] = None\n",
    "cell_detection_parameter['maxima_detection']['valid'] = True\n",
    "cell_detection_parameter['maxima_detection']['save'] = False\n",
    "cell_detection_parameter['shape_detection']['threshold'] = 150\n",
    "cell_detection_parameter['shape_detection']['save'] = False\n",
    "cell_detection_parameter['intensity_detection']['method'] = 'max'\n",
    "cell_detection_parameter['intensity_detection']['shape'] = 10\n",
    "cell_detection_parameter['intensity_detection']['measure'] = ['source','background']\n",
    "cell_detection_parameter['verbose'] = False\n",
    "hdict.pprint(cell_detection_parameter)"
   ]
  },
  {
   "cell_type": "code",
   "execution_count": null,
   "metadata": {},
   "outputs": [],
   "source": [
    "processing_parameter = cells.default_cell_detection_processing_parameter.copy()\n",
    "processing_parameter.update(processes='serial',size_max=100,size_min=30,overlap=15,verbose=True)\n",
    "cells.detect_cells(ws.filename('stitched'),ws.filename('cells',postfix='raw'),\n",
    "                   cell_detection_parameter=cell_detection_parameter,\n",
    "                   processing_parameter=processing_parameter)"
   ]
  },
  {
   "cell_type": "markdown",
   "metadata": {},
   "source": [
    "## Plot distribution of detected cells"
   ]
  },
  {
   "cell_type": "code",
   "execution_count": null,
   "metadata": {},
   "outputs": [],
   "source": [
    "source = ws.source('cells',postfix='raw')\n",
    "fig = plt.figure(figsize=(12,10))\n",
    "plt.figure(1)\n",
    "plt.clf()\n",
    "names = source.dtype.names\n",
    "nx,ny = 2,3\n",
    "for i, name in enumerate(names):\n",
    "    plt.subplot(nx,ny,i+1)\n",
    "    plt.hist(source[name])\n",
    "    plt.title(name)\n",
    "plt.tight_layout();"
   ]
  },
  {
   "cell_type": "markdown",
   "metadata": {},
   "source": [
    "## Filter and visualize detected cells"
   ]
  },
  {
   "cell_type": "code",
   "execution_count": null,
   "metadata": {},
   "outputs": [],
   "source": [
    "thresholds = {'background':None,'size':(5,None)}\n",
    "cells.filter_cells(source=ws.filename('cells',postfix='raw'),\n",
    "                   sink=ws.filename('cells',postfix='filtered'),\n",
    "                   thresholds=thresholds);"
   ]
  },
  {
   "cell_type": "code",
   "execution_count": null,
   "metadata": {},
   "outputs": [],
   "source": [
    "coordinates = np.hstack([ws.source('cells',postfix='filtered')[c][:,None] for c in 'xyz'])\n",
    "coordinates = np.delete(coordinates,obj=2,axis=1)\n",
    "xs = coordinates[:,0]\n",
    "ys = coordinates[:,1]\n",
    "fig,axes = plt.subplots(figsize=(15,10),nrows=1,ncols=2,sharex=True,sharey=True)\n",
    "ax_tissue = axes[0]\n",
    "ax_tissue.imshow(np.amax(ws.source('stitched'),2),vmin=0,vmax=400)\n",
    "ax_both=axes[1]\n",
    "ax_both.imshow(np.amax(ws.source('stitched'),2),vmin=0,vmax=400)\n",
    "ax_both.scatter(ys,xs,s=50,facecolors='none',edgecolors='r')\n",
    "plt.savefig(directory+'/'+ws.debug+'_cells.png');"
   ]
  },
  {
   "cell_type": "code",
   "execution_count": null,
   "metadata": {},
   "outputs": [],
   "source": [
    "filenames = []\n",
    "data = ws.source('stitched')\n",
    "coordinates = np.hstack([ws.source('cells',postfix='filtered')[c][:,None] for c in 'xyz'])\n",
    "xs = coordinates[:,0]\n",
    "ys = coordinates[:,1]\n",
    "zs = coordinates[:,2]\n",
    "for i in range(0, 29):\n",
    "    fig = plt.figure(figsize=(15,10))\n",
    "    plt.imshow(data[:,:,i],vmin=0,vmax=200)\n",
    "    zs1 = np.where((zs>(i-4))&(zs<(i+4)),True,False)\n",
    "    ys1 = ys[zs1]\n",
    "    xs1 = xs[zs1]\n",
    "    plt.scatter(ys1,xs1,s=50,facecolors='none',edgecolors='r')\n",
    "    filename = f'{i}.png'\n",
    "    filenames.append(filename)\n",
    "    plt.savefig(filename)\n",
    "    plt.close()\n",
    "with imageio.get_writer(directory+'/'+ws.debug+'_cells.gif',mode='I') as writer:\n",
    "    for filename in filenames:\n",
    "        image = imageio.imread(filename)\n",
    "        writer.append_data(image)\n",
    "for filename in set(filenames):\n",
    "    os.remove(filename)\n",
    "from IPython.display import Image\n",
    "Image(filename=directory+'/'+ws.debug+'_cells.gif')"
   ]
  }
 ],
 "metadata": {
  "kernelspec": {
   "display_name": "ClearMap",
   "language": "python",
   "name": "clearmap"
  },
  "language_info": {
   "codemirror_mode": {
    "name": "ipython",
    "version": 3
   },
   "file_extension": ".py",
   "mimetype": "text/x-python",
   "name": "python",
   "nbconvert_exporter": "python",
   "pygments_lexer": "ipython3",
   "version": "3.7.10"
  }
 },
 "nbformat": 4,
 "nbformat_minor": 2
}
